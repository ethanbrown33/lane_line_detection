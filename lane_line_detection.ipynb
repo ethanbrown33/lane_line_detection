{
  "nbformat": 4,
  "nbformat_minor": 0,
  "metadata": {
    "colab": {
      "provenance": [],
      "gpuType": "T4",
      "authorship_tag": "ABX9TyOdtVn7UINVBPEbEYq6tb7b",
      "include_colab_link": true
    },
    "kernelspec": {
      "name": "python3",
      "display_name": "Python 3"
    },
    "language_info": {
      "name": "python"
    }
  },
  "cells": [
    {
      "cell_type": "markdown",
      "metadata": {
        "id": "view-in-github",
        "colab_type": "text"
      },
      "source": [
        "<a href=\"https://colab.research.google.com/github/ethanbrown33/lane_line_detection/blob/main/lane_line_detection.ipynb\" target=\"_parent\"><img src=\"https://colab.research.google.com/assets/colab-badge.svg\" alt=\"Open In Colab\"/></a>"
      ]
    },
    {
      "cell_type": "code",
      "execution_count": 1,
      "metadata": {
        "colab": {
          "base_uri": "https://localhost:8080/"
        },
        "id": "gBrYHRVVrXvw",
        "outputId": "b98ec442-c796-4e5e-909c-a1e39b6e6f12"
      },
      "outputs": [
        {
          "output_type": "stream",
          "name": "stdout",
          "text": [
            "Drive already mounted at /content/drive; to attempt to forcibly remount, call drive.mount(\"/content/drive\", force_remount=True).\n"
          ]
        }
      ],
      "source": [
        "from google.colab import drive\n",
        "from google.colab import files\n",
        "drive.mount('/content/drive')\n",
        "\n",
        "import os\n",
        "os.chdir('/content/drive/MyDrive/adc_data')\n",
        "\n",
        "import sys\n",
        "import cv2\n",
        "from matplotlib import pyplot as plt\n",
        "import numpy as np\n",
        "from tqdm import tqdm"
      ]
    },
    {
      "cell_type": "code",
      "source": [
        "def load_image(path):\n",
        "  image = cv2.imread(path)\n",
        "  image = cv2.resize(image, (1200, 900))\n",
        "  image = cv2.cvtColor(image, cv2.COLOR_BGR2RGB)\n",
        "  return image\n",
        "\n",
        "def edge_detect(image):\n",
        "  image_gray = cv2.cvtColor(image, cv2.COLOR_RGB2GRAY)\n",
        "\n",
        "  image_blur = cv2.blur(image, (5, 5))\n",
        "  image_edge = cv2.Canny(image_blur, 20, 100)\n",
        "\n",
        "  image_edge_rgb = cv2.cvtColor(image_edge, cv2.COLOR_GRAY2RGB)\n",
        "\n",
        "  return image_edge_rgb\n",
        "\n",
        "def histo_peak(histo):\n",
        "    \"\"\"Find left and right peaks of histogram\"\"\"\n",
        "    midpoint = int(histo.shape[0]/2)\n",
        "    leftx_base = np.argmax(histo[:midpoint])\n",
        "    rightx_base = np.argmax(histo[midpoint:]) + midpoint\n",
        "    return leftx_base, rightx_base\n",
        "\n",
        "def get_lane_indices_sliding_windows(binary_warped, leftx_base, rightx_base, n_windows, margin, recenter_minpix):\n",
        "    \"\"\"Get lane line pixel indices by using sliding window technique\"\"\"\n",
        "    # Create an output image to draw on and  visualize the result\n",
        "    out_img = np.dstack((binary_warped, binary_warped, binary_warped))*255\n",
        "    out_img = out_img.copy()\n",
        "    # Set height of windows\n",
        "    window_height = int(binary_warped.shape[0]/n_windows)\n",
        "\n",
        "    # Identify the x and y positions of all nonzero pixels in the image\n",
        "    nonzero = binary_warped.nonzero()\n",
        "    nonzeroy = np.array(nonzero[0])\n",
        "    nonzerox = np.array(nonzero[1])\n",
        "\n",
        "    # Create empty lists to receive left and right lane pixel indices\n",
        "    left_lane_inds = []\n",
        "    right_lane_inds = []\n",
        "    # Current positions to be updated for each window\n",
        "    leftx_current = leftx_base\n",
        "    rightx_current = rightx_base\n",
        "\n",
        "    for window in range(n_windows):\n",
        "        # Identify window boundaries in x and y (and right and left)\n",
        "        win_y_low = binary_warped.shape[0] - (window + 1) * window_height\n",
        "        win_y_high = binary_warped.shape[0] - window * window_height\n",
        "        win_xleft_low = leftx_current - margin\n",
        "        win_xleft_high = leftx_current + margin\n",
        "        win_xright_low = rightx_current - margin\n",
        "        win_xright_high = rightx_current + margin\n",
        "        cv2.rectangle(out_img,(win_xleft_low,win_y_low),(win_xleft_high,win_y_high), (0,255,0), 2)\n",
        "        cv2.rectangle(out_img,(win_xright_low,win_y_low),(win_xright_high,win_y_high), (0,255,0), 2)\n",
        "        # Identify the nonzero pixels in x and y within the window\n",
        "        good_left_inds = ((nonzeroy >= win_y_low) & (nonzeroy < win_y_high) &\n",
        "                          (nonzerox >= win_xleft_low) &  (nonzerox < win_xleft_high)).nonzero()[0]\n",
        "        good_right_inds = ((nonzeroy >= win_y_low) & (nonzeroy < win_y_high) &\n",
        "                           (nonzerox >= win_xright_low) &  (nonzerox < win_xright_high)).nonzero()[0]\n",
        "        # Append these indices to the lists\n",
        "        left_lane_inds.append(good_left_inds)\n",
        "        right_lane_inds.append(good_right_inds)\n",
        "        # If you found > minpix pixels, recenter next window on their mean position\n",
        "        if len(good_left_inds) > recenter_minpix:\n",
        "            leftx_current = int(np.mean(nonzerox[good_left_inds]))\n",
        "        if len(good_right_inds) > recenter_minpix:\n",
        "            rightx_current = int(np.mean(nonzerox[good_right_inds]))\n",
        "\n",
        "    # Concatenate the arrays of indices\n",
        "    left_lane_inds = np.concatenate(left_lane_inds)\n",
        "    right_lane_inds = np.concatenate(right_lane_inds)\n",
        "    return left_lane_inds, right_lane_inds, nonzerox, nonzeroy, out_img\n",
        "\n",
        "def get_lane_indices_from_prev_window(binary_warped_img, left_fit, right_fit, margin):\n",
        "    \"\"\"Detect lane line by searching around detection of previous sliding window detection\"\"\"\n",
        "    nonzero = binary_warped.nonzero()\n",
        "    nonzeroy = np.array(nonzero[0])\n",
        "    nonzerox = np.array(nonzero[1])\n",
        "\n",
        "    left_lane_inds = ((nonzerox > (left_fit[0]*(nonzeroy**2) + left_fit[1]*nonzeroy +\n",
        "    left_fit[2] - margin)) & (nonzerox < (left_fit[0]*(nonzeroy**2) +\n",
        "    left_fit[1]*nonzeroy + left_fit[2] + margin)))\n",
        "    right_lane_inds = ((nonzerox > (right_fit[0]*(nonzeroy**2) + right_fit[1]*nonzeroy +\n",
        "    right_fit[2] - margin)) & (nonzerox < (right_fit[0]*(nonzeroy**2) +\n",
        "    right_fit[1]*nonzeroy + right_fit[2] + margin)))\n",
        "\n",
        "    # Again, extract left and right line pixel positions\n",
        "    leftx = nonzerox[left_lane_inds]\n",
        "    lefty = nonzeroy[left_lane_inds]\n",
        "    rightx = nonzerox[right_lane_inds]\n",
        "    righty = nonzeroy[right_lane_inds]\n",
        "\n",
        "    # Fit a second order polynomial to each\n",
        "    left_fit = np.polyfit(lefty, leftx, 2)\n",
        "    right_fit = np.polyfit(righty, rightx, 2)\n",
        "\n",
        "    # Generate x and y values for plotting\n",
        "    ploty = np.linspace(0, binary_warped.shape[0]-1, binary_warped.shape[0] )\n",
        "    left_fitx = left_fit[0]*ploty**2 + left_fit[1]*ploty + left_fit[2]\n",
        "    right_fitx = right_fit[0]*ploty**2 + right_fit[1]*ploty + right_fit[2]\n",
        "    return left_lane_inds, right_lane_inds, ploty, left_fitx, right_fitx\n",
        "\n",
        "def project_lane_line(original_image, binary_warped, ploty, left_fitx, right_fitx, m_inv):\n",
        "    # Create an image to draw the lines on\n",
        "    warp_zero = np.zeros_like(binary_warped).astype(np.uint8)\n",
        "    color_warp = np.dstack((warp_zero, warp_zero, warp_zero))\n",
        "\n",
        "    # Recast the x and y points into usable format for cv2.fillPoly()\n",
        "    pts_left = np.array([np.transpose(np.vstack([left_fitx[:len(ploty)], ploty]))])\n",
        "    #pts_left = np.array([np.transpose(np.vstack([left_fitx, ploty]))])\n",
        "    pts_right = np.array([np.flipud(np.transpose(np.vstack([right_fitx, ploty])))])\n",
        "    pts = np.hstack((pts_left, pts_right))\n",
        "\n",
        "    # Draw the lane onto the warped blank image\n",
        "    cv2.fillPoly(color_warp, np.int_([pts]), (0,255, 0))\n",
        "\n",
        "    # Warp the blank back to original image space using inverse perspective matrix (Minv)\n",
        "    newwarp = cv2.warpPerspective(color_warp, m_inv, (original_image.shape[1], original_image.shape[0]))\n",
        "\n",
        "    # Combine the result with the original image\n",
        "    result = cv2.addWeighted(original_image, 1, newwarp, 0.3, 0)\n",
        "    return result"
      ],
      "metadata": {
        "id": "7CHWw5dQkPys"
      },
      "execution_count": 37,
      "outputs": []
    },
    {
      "cell_type": "code",
      "source": [
        "def edge_detect2(image):\n",
        "  image_gray = cv2.cvtColor(image, cv2.COLOR_RGB2GRAY)\n",
        "\n",
        "  image_blur = cv2.blur(image, (5, 5))\n",
        "  image_edge = cv2.Canny(image_blur, 20, 100)\n",
        "\n",
        "  image_edge_rgb = cv2.cvtColor(image_edge, cv2.COLOR_GRAY2RGB)\n",
        "\n",
        "  return image_edge_rgb\n",
        "\n",
        "upper_bound = 650\n",
        "lower_bound = 830\n",
        "roi_points = np.float32([\n",
        "  (525, upper_bound), # Top-left corner\n",
        "  (300, lower_bound), # Bottom-left corner\n",
        "  (900, lower_bound), # Bottom-right corner\n",
        "  (675, upper_bound) # Top-right corner\n",
        "])\n",
        "image = load_image(\"frame0.jpg\")\n",
        "image = edge_detect2(image)\n",
        "mask = np.zeros(image.shape[:2], dtype=\"uint8\")\n",
        "cv2.fillPoly(mask, np.int32([roi_points]), (255, 255, 255))\n",
        "image_edge_rgb = cv2.bitwise_and(image, image, mask=mask)\n",
        "cv2.polylines(image_edge_rgb, np.int32([roi_points]), True, (255,0,0), 3)\n",
        "plt.imshow(image_edge_rgb)"
      ],
      "metadata": {
        "colab": {
          "base_uri": "https://localhost:8080/",
          "height": 453
        },
        "id": "NrAunxo9vfoh",
        "outputId": "7ba9552c-0932-4edb-973d-14493a9fd5b1"
      },
      "execution_count": 43,
      "outputs": [
        {
          "output_type": "execute_result",
          "data": {
            "text/plain": [
              "<matplotlib.image.AxesImage at 0x7f3b6192d300>"
            ]
          },
          "metadata": {},
          "execution_count": 43
        },
        {
          "output_type": "display_data",
          "data": {
            "text/plain": [
              "<Figure size 640x480 with 1 Axes>"
            ],
            "image/png": "[encoded data removed]"
          },
          "metadata": {}
        }
      ]
    },
    {
      "cell_type": "code",
      "source": [
        "def laneDetector(image):\n",
        "  image_edge_rgb = edge_detect(image)\n",
        "\n",
        "  # Warp parameters\n",
        "  shape = image.shape[::-1][1:]\n",
        "\n",
        "  offset = 300 # crop inwards?\n",
        "\n",
        "  upper_bound = 650\n",
        "  lower_bound = 840\n",
        "  roi_points = np.float32([\n",
        "    (525, upper_bound), # Top-left corner\n",
        "    (300, lower_bound), # Bottom-left corner\n",
        "    (900, lower_bound), # Bottom-right corner\n",
        "    (675, upper_bound) # Top-right corner\n",
        "  ])\n",
        "\n",
        "  image_points = np.float32([\n",
        "      [offset, 0],\n",
        "      [offset, shape[1]],\n",
        "      [shape[0]-offset, shape[1]],\n",
        "      [shape[0]-offset, 0]\n",
        "  ])\n",
        "\n",
        "  #mask\n",
        "  mask = np.zeros(image.shape[:2], dtype=\"uint8\")\n",
        "  cv2.fillPoly(mask, np.int32([roi_points]), (255, 255, 255))\n",
        "  image_edge_rgb = cv2.bitwise_and(image_edge_rgb, image_edge_rgb, mask=mask)\n",
        "  plt.imshow(image_edge_rgb)\n",
        "\n",
        "  #warp display\n",
        "  warp_parameter_display = image_edge_rgb.copy()\n",
        "  poly = cv2.polylines(warp_parameter_display, np.int32([roi_points]), True, (255,0,0), 3)\n",
        "\n",
        "  # Warp and unwarp matrix calculation\n",
        "  warp_matrix = cv2.getPerspectiveTransform(roi_points, image_points)\n",
        "  unwarp_matrix = cv2.getPerspectiveTransform(image_points, roi_points)\n",
        "\n",
        "  # Warp image\n",
        "  image_warp = cv2.warpPerspective(image_edge_rgb, warp_matrix, shape, flags=cv2.INTER_LINEAR)\n",
        "  binary_warped = cv2.cvtColor(image_warp, cv2.COLOR_RGB2GRAY)\n",
        "\n",
        "  image_warp_display = image_warp.copy()\n",
        "  poly = cv2.polylines(image_warp_display, np.int32([image_points]), True, (255,0,0), 3)\n",
        "\n",
        "  # sliding box parameters\n",
        "  N_WINDOWS = 32\n",
        "  MARGIN = 100\n",
        "  RECENTER_MINPIX = 50\n",
        "\n",
        "  # Calculate histogram of lane line pixels\n",
        "  histogram = np.sum(binary_warped[int(binary_warped.shape[0]/2):,:], axis=0)\n",
        "\n",
        "  # Slide boxes\n",
        "  leftx_base, rightx_base = histo_peak(histogram)\n",
        "  left_lane_inds, right_lane_inds, nonzerox, nonzeroy, out_img = get_lane_indices_sliding_windows(\n",
        "      binary_warped, leftx_base, rightx_base, N_WINDOWS, MARGIN, RECENTER_MINPIX)\n",
        "\n",
        "  # Extract left and right line pixel positions\n",
        "  leftx = nonzerox[left_lane_inds]\n",
        "  lefty = nonzeroy[left_lane_inds]\n",
        "  rightx = nonzerox[right_lane_inds]\n",
        "  righty = nonzeroy[right_lane_inds]\n",
        "\n",
        "  # Fit a second order polynomial to each\n",
        "  left_fit = np.polyfit(lefty, leftx, 2)\n",
        "  right_fit = np.polyfit(righty, rightx, 2)\n",
        "\n",
        "  # Generate x and y values for plotting\n",
        "  ploty = np.linspace(0, image_warp.shape[0]-1, image_warp.shape[0])\n",
        "  left_fitx = left_fit[0]*ploty**2 + left_fit[1]*ploty + left_fit[2]\n",
        "  right_fitx = right_fit[0]*ploty**2 + right_fit[1]*ploty + right_fit[2]\n",
        "\n",
        "  out_img[nonzeroy[left_lane_inds], nonzerox[left_lane_inds]] = [255, 0, 0]\n",
        "  out_img[nonzeroy[right_lane_inds], nonzerox[right_lane_inds]] = [0, 0, 255]\n",
        "\n",
        "  # Create an image to draw on and an image to show the selection window\n",
        "  out_img = np.dstack((binary_warped, binary_warped, binary_warped))*255\n",
        "  window_img = np.zeros_like(out_img)\n",
        "\n",
        "  # Color in left and right line pixels\n",
        "  out_img[nonzeroy[left_lane_inds], nonzerox[left_lane_inds]] = [255, 0, 0]\n",
        "  out_img[nonzeroy[right_lane_inds], nonzerox[right_lane_inds]] = [0, 0, 255]\n",
        "\n",
        "  # Generate a polygon to illustrate the search window area\n",
        "  # And recast the x and y points into usable format for cv2.fillPoly()\n",
        "  left_line_window1 = np.array([np.transpose(np.vstack([left_fitx-MARGIN, ploty]))])\n",
        "  left_line_window2 = np.array([np.flipud(np.transpose(np.vstack([left_fitx+MARGIN,\n",
        "                                ploty])))])\n",
        "  left_line_pts = np.hstack((left_line_window1, left_line_window2))\n",
        "  right_line_window1 = np.array([np.transpose(np.vstack([right_fitx-MARGIN, ploty]))])\n",
        "  right_line_window2 = np.array([np.flipud(np.transpose(np.vstack([right_fitx+MARGIN,\n",
        "                                ploty])))])\n",
        "  right_line_pts = np.hstack((right_line_window1, right_line_window2))\n",
        "\n",
        "  # Draw the lane onto the warped blank image\n",
        "  cv2.fillPoly(window_img, np.int_([left_line_pts]), (0,255, 0))\n",
        "  cv2.fillPoly(window_img, np.int_([right_line_pts]), (0,255, 0))\n",
        "  poly_img = cv2.addWeighted(out_img, 1, window_img, 0.3, 0)\n",
        "\n",
        "  lane_line_area_display = image.copy()\n",
        "  result = project_lane_line(lane_line_area_display, binary_warped, ploty, left_fitx, right_fitx, unwarp_matrix)\n",
        "\n",
        "\n",
        "  # f, axarr = plt.subplots(2, 4)\n",
        "  # f.set_size_inches(18, 10)\n",
        "  # axarr[0,0].imshow(image)\n",
        "  # axarr[0,1].imshow(image_edge_rgb)\n",
        "  # axarr[0,2].imshow(warp_parameter_display)\n",
        "  # axarr[0,3].imshow(image_warp_display)\n",
        "  # axarr[1,0].plot(histogram)\n",
        "\n",
        "  # axarr[1,1].imshow(out_img)\n",
        "  # axarr[1,1].plot(left_fitx, ploty, color='yellow')\n",
        "  # axarr[1,1].plot(right_fitx, ploty, color='yellow')\n",
        "\n",
        "  # axarr[1,2].imshow(poly_img)\n",
        "  # axarr[1,2].plot(left_fitx, ploty, color='yellow')\n",
        "  # axarr[1,2].plot(right_fitx, ploty, color='yellow')\n",
        "\n",
        "  # axarr[1,3].imshow(result)\n",
        "\n",
        "  return result\n",
        "\n",
        "\n",
        "\n",
        "# Load image\n",
        "path = [\"challenge_video_frame_1.jpg\",\n",
        "         \"harder_challenge_video_frame_10.jpg\",\n",
        "         \"frame0.jpg\",\n",
        "         \"step0.png\"]\n",
        "\n",
        "\n",
        "image = load_image(path[2])\n",
        "result = laneDetector(image)\n",
        "#plt.imshow(result)"
      ],
      "metadata": {
        "id": "zEAacAah8R0C",
        "colab": {
          "base_uri": "https://localhost:8080/",
          "height": 435
        },
        "outputId": "63fdc7d6-a57e-4d3c-8235-b142ab8adaed"
      },
      "execution_count": 44,
      "outputs": [
        {
          "output_type": "display_data",
          "data": {
            "text/plain": [
              "<Figure size 640x480 with 1 Axes>"
            ],
            "image/png": "[encoded data removed]"
          },
          "metadata": {}
        }
      ]
    },
    {
      "cell_type": "code",
      "source": [
        "#vidTest = cv2.VideoCapture(\"2022_01_21_185522_00.MP4\")\n",
        "#vidTest = cv2.VideoCapture(\"2021_02_01_203528_00.MP4\")\n",
        "vidTest = cv2.VideoCapture(\"2021_12_29_223516_00.MP4\")\n",
        "\n",
        "def testRun(numImages):\n",
        "  #make the output video\n",
        "  fourcc = cv2.VideoWriter_fourcc(*'mp4v')\n",
        "  video_out = cv2.VideoWriter('result.mp4',\n",
        "                         fourcc, 30, (int(vidTest.get(3)), int(vidTest.get(4))))\n",
        "  #randint = 0\n",
        "  vidTest.set(cv2.CAP_PROP_POS_FRAMES, 0)\n",
        "  for i in tqdm(range(0,numImages)):\n",
        "    active, img = vidTest.read()\n",
        "    if active:\n",
        "      #vdieo testing\n",
        "      image_resized = cv2.resize(img, (1200, 900))\n",
        "      image_rgb = cv2.cvtColor(image_resized, cv2.COLOR_BGR2RGB)\n",
        "      output = laneDetector(image_rgb)\n",
        "      output_resized = cv2.resize(output, (int(vidTest.get(3)), int(vidTest.get(4))))\n",
        "      video_out.write(output_resized)\n",
        "\n",
        "  #output\n",
        "  video_out.release()\n",
        "  files.download('result.mp4')"
      ],
      "metadata": {
        "id": "8vmC_VjvGWGi"
      },
      "execution_count": 50,
      "outputs": []
    },
    {
      "cell_type": "code",
      "source": [
        "testRun(400)"
      ],
      "metadata": {
        "colab": {
          "base_uri": "https://localhost:8080/",
          "height": 739
        },
        "id": "g_dv6vIBmuRI",
        "outputId": "de3862b2-ffc5-46fc-8cc2-3087ed069fd4"
      },
      "execution_count": 52,
      "outputs": [
        {
          "output_type": "stream",
          "name": "stderr",
          "text": [
            " 12%|█▏        | 49/400 [00:09<00:46,  7.57it/s]<ipython-input-44-b8a6d0a9fa7b>:67: RankWarning: Polyfit may be poorly conditioned\n",
            "  right_fit = np.polyfit(righty, rightx, 2)\n",
            " 14%|█▍        | 57/400 [00:10<00:44,  7.63it/s]<ipython-input-44-b8a6d0a9fa7b>:67: RankWarning: Polyfit may be poorly conditioned\n",
            "  right_fit = np.polyfit(righty, rightx, 2)\n",
            " 14%|█▍        | 58/400 [00:10<00:45,  7.54it/s]<ipython-input-44-b8a6d0a9fa7b>:67: RankWarning: Polyfit may be poorly conditioned\n",
            "  right_fit = np.polyfit(righty, rightx, 2)\n",
            " 15%|█▍        | 59/400 [00:10<00:45,  7.55it/s]<ipython-input-44-b8a6d0a9fa7b>:67: RankWarning: Polyfit may be poorly conditioned\n",
            "  right_fit = np.polyfit(righty, rightx, 2)\n",
            " 23%|██▎       | 91/400 [00:14<00:44,  6.98it/s]<ipython-input-44-b8a6d0a9fa7b>:67: RankWarning: Polyfit may be poorly conditioned\n",
            "  right_fit = np.polyfit(righty, rightx, 2)\n",
            " 23%|██▎       | 92/400 [00:15<00:45,  6.81it/s]<ipython-input-44-b8a6d0a9fa7b>:67: RankWarning: Polyfit may be poorly conditioned\n",
            "  right_fit = np.polyfit(righty, rightx, 2)\n",
            " 23%|██▎       | 93/400 [00:15<00:44,  6.92it/s]<ipython-input-44-b8a6d0a9fa7b>:67: RankWarning: Polyfit may be poorly conditioned\n",
            "  right_fit = np.polyfit(righty, rightx, 2)\n",
            " 24%|██▍       | 95/400 [00:15<00:44,  6.85it/s]<ipython-input-44-b8a6d0a9fa7b>:67: RankWarning: Polyfit may be poorly conditioned\n",
            "  right_fit = np.polyfit(righty, rightx, 2)\n",
            "100%|██████████| 400/400 [01:09<00:00,  5.79it/s]\n"
          ]
        },
        {
          "output_type": "display_data",
          "data": {
            "text/plain": [
              "<IPython.core.display.Javascript object>"
            ],
            "application/javascript": [
              "\n",
              "    async function download(id, filename, size) {\n",
              "      if (!google.colab.kernel.accessAllowed) {\n",
              "        return;\n",
              "      }\n",
              "      const div = document.createElement('div');\n",
              "      const label = document.createElement('label');\n",
              "      label.textContent = `Downloading \"${filename}\": `;\n",
              "      div.appendChild(label);\n",
              "      const progress = document.createElement('progress');\n",
              "      progress.max = size;\n",
              "      div.appendChild(progress);\n",
              "      document.body.appendChild(div);\n",
              "\n",
              "      const buffers = [];\n",
              "      let downloaded = 0;\n",
              "\n",
              "      const channel = await google.colab.kernel.comms.open(id);\n",
              "      // Send a message to notify the kernel that we're ready.\n",
              "      channel.send({})\n",
              "\n",
              "      for await (const message of channel.messages) {\n",
              "        // Send a message to notify the kernel that we're ready.\n",
              "        channel.send({})\n",
              "        if (message.buffers) {\n",
              "          for (const buffer of message.buffers) {\n",
              "            buffers.push(buffer);\n",
              "            downloaded += buffer.byteLength;\n",
              "            progress.value = downloaded;\n",
              "          }\n",
              "        }\n",
              "      }\n",
              "      const blob = new Blob(buffers, {type: 'application/binary'});\n",
              "      const a = document.createElement('a');\n",
              "      a.href = window.URL.createObjectURL(blob);\n",
              "      a.download = filename;\n",
              "      div.appendChild(a);\n",
              "      a.click();\n",
              "      div.remove();\n",
              "    }\n",
              "  "
            ]
          },
          "metadata": {}
        },
        {
          "output_type": "display_data",
          "data": {
            "text/plain": [
              "<IPython.core.display.Javascript object>"
            ],
            "application/javascript": [
              "download(\"download_1ab276c3-5ffb-434b-876f-6cd3a76cb57e\", \"result.mp4\", 18147634)"
            ]
          },
          "metadata": {}
        },
        {
          "output_type": "display_data",
          "data": {
            "text/plain": [
              "<Figure size 640x480 with 1 Axes>"
            ],
            "image/png": "[encoded data removed]"
          },
          "metadata": {}
        }
      ]
    }
  ]
}